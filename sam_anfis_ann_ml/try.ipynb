{
 "cells": [
  {
   "cell_type": "code",
   "execution_count": 2,
   "metadata": {},
   "outputs": [
    {
     "ename": "SyntaxError",
     "evalue": "positional argument follows keyword argument (Temp/ipykernel_11400/1905694387.py, line 9)",
     "output_type": "error",
     "traceback": [
      "\u001b[1;36m  File \u001b[1;32m\"C:\\Users\\HP\\AppData\\Local\\Temp/ipykernel_11400/1905694387.py\"\u001b[1;36m, line \u001b[1;32m9\u001b[0m\n\u001b[1;33m    param.n_input) # lagged inputs\u001b[0m\n\u001b[1;37m                 ^\u001b[0m\n\u001b[1;31mSyntaxError\u001b[0m\u001b[1;31m:\u001b[0m positional argument follows keyword argument\n"
     ]
    }
   ],
   "source": [
    "import myanfis\n",
    "import data_gen as gen\n",
    "import tensorflow as tf\n",
    "\n",
    "param_obj = myanfis.fis_parameters(n_input=4, n_memb=3)    \n",
    "\n",
    "X, X_train, X_test, y, y_train, y_test = sim.gen_data(data_set=0,       # mackey\n",
    "                                                        n_obs=2080,     \n",
    "                                                        param.n_input) # lagged inputs\n",
    "                                                        \n",
    "fis = myanfis.ANFIS(n_input = param.n_input,        \n",
    "                    n_memb = param.n_memb, \n",
    "                    batch_size = param.batch_size, \n",
    "                    memb_func = param.memb_func,\n",
    "                    name = 'myanfis' )\n",
    "\n",
    "fis.model.compile(optimizer=param.optimizer, \n",
    "                  loss=param.loss \n",
    "                  ,metrics=['mae', 'mse'] )\n",
    "\n",
    "history = fis.fit(X_train, y_train, \n",
    "                  epochs=param.n_epochs, \n",
    "                  batch_size=param.batch_size,\n",
    "                  validation_data = (X_test, y_test) )  "
   ]
  }
 ],
 "metadata": {
  "kernelspec": {
   "display_name": "Python 3.9.7 ('base')",
   "language": "python",
   "name": "python3"
  },
  "language_info": {
   "codemirror_mode": {
    "name": "ipython",
    "version": 3
   },
   "file_extension": ".py",
   "mimetype": "text/x-python",
   "name": "python",
   "nbconvert_exporter": "python",
   "pygments_lexer": "ipython3",
   "version": "3.9.7"
  },
  "orig_nbformat": 4,
  "vscode": {
   "interpreter": {
    "hash": "dc07d24e2f18896857f0b2a651fe84ba40ce7b297e58d8804a308c8039f752a6"
   }
  }
 },
 "nbformat": 4,
 "nbformat_minor": 2
}
